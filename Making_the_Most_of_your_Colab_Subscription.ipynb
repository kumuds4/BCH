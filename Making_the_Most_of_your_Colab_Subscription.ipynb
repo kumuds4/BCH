{
  "cells": [
    {
      "cell_type": "markdown",
      "metadata": {
        "id": "view-in-github",
        "colab_type": "text"
      },
      "source": [
        "<a href=\"https://colab.research.google.com/github/kumuds4/BCH/blob/master/Making_the_Most_of_your_Colab_Subscription.ipynb\" target=\"_parent\"><img src=\"https://colab.research.google.com/assets/colab-badge.svg\" alt=\"Open In Colab\"/></a>"
      ]
    },
    {
      "cell_type": "markdown",
      "metadata": {
        "id": "SKQ4bH7qMGrA"
      },
      "source": [
        "# Making the Most of your Colab Subscription\n",
        "\n"
      ]
    },
    {
      "cell_type": "markdown",
      "metadata": {
        "id": "sjTLZD16HebW"
      },
      "source": [
        "# Access Popular LLMs via Google-Colab-AI Without an API Key"
      ]
    },
    {
      "cell_type": "markdown",
      "metadata": {
        "id": "EwVZpSEoHkQH"
      },
      "source": [
        "Users with Colab's paid plans have free access to most popular LLMs via google-colab-ai Python library. For more details, refer to the [getting started with google colab ai](https://colab.research.google.com/github/googlecolab/colabtools/blob/main/notebooks/Getting_started_with_google_colab_ai.ipynb)."
      ]
    },
    {
      "cell_type": "code",
      "execution_count": null,
      "metadata": {
        "id": "ebl8tzi917TU"
      },
      "outputs": [],
      "source": [
        "from google.colab import ai\n",
        "response = ai.generate_text(\"What is the capital of France?\")\n",
        "print(response)"
      ]
    },
    {
      "cell_type": "markdown",
      "metadata": {
        "id": "QMMqmdiYMkvi"
      },
      "source": [
        "## Faster GPUs\n",
        "\n",
        "Users who have purchased one of Colab's paid plans have access to faster GPUs and more memory. You can upgrade your notebook's GPU settings in `Runtime > Change runtime type` in the menu to select from several accelerator options, subject to availability.\n",
        "\n",
        "The free of charge version of Colab grants access to Nvidia's T4 GPUs subject to quota restrictions and availability.\n",
        "\n",
        "You can see what GPU you've been assigned at any time by executing the following cell. If the execution result of running the code cell below is \"Not connected to a GPU\", you can change the runtime by going to `Runtime > Change runtime type` in the menu to enable a GPU accelerator, and then re-execute the code cell.\n"
      ]
    },
    {
      "cell_type": "code",
      "execution_count": null,
      "metadata": {
        "id": "23TOba33L4qf"
      },
      "outputs": [],
      "source": [
        "gpu_info = !nvidia-smi\n",
        "gpu_info = '\\n'.join(gpu_info)\n",
        "if gpu_info.find('failed') >= 0:\n",
        "  print('Not connected to a GPU')\n",
        "else:\n",
        "  print(gpu_info)"
      ]
    },
    {
      "cell_type": "markdown",
      "metadata": {
        "id": "Sa-IrJS1aRVJ"
      },
      "source": [
        "In order to use a GPU with your notebook, select the `Runtime > Change runtime type` menu, and then set the hardware accelerator to the desired option."
      ]
    },
    {
      "cell_type": "markdown",
      "metadata": {
        "id": "65MSuHKqNeBZ"
      },
      "source": [
        "## More memory\n",
        "\n",
        "Users who have purchased one of Colab's paid plans have access to high-memory VMs when they are available. More powerful GPUs are always offered with high-memory VMs.\n",
        "\n",
        "\n",
        "\n",
        "You can see how much memory you have available at any time by running the following code cell. If the execution result of running the code cell below is \"Not using a high-RAM runtime\", then you can enable a high-RAM runtime via `Runtime > Change runtime type` in the menu. Then select High-RAM in the Runtime shape toggle button. After, re-execute the code cell.\n"
      ]
    },
    {
      "cell_type": "code",
      "execution_count": null,
      "metadata": {
        "id": "V1G82GuO-tez"
      },
      "outputs": [],
      "source": [
        "import psutil\n",
        "\n",
        "ram_gb = psutil.virtual_memory().total / 1e9\n",
        "print('Your runtime has {:.1f} gigabytes of available RAM\\n'.format(ram_gb))\n",
        "\n",
        "if ram_gb < 20:\n",
        "  print('Not using a high-RAM runtime')\n",
        "else:\n",
        "  print('You are using a high-RAM runtime!')"
      ]
    },
    {
      "cell_type": "markdown",
      "metadata": {
        "id": "BJW8Qi-pPpep"
      },
      "source": [
        "## Longer runtimes\n",
        "\n",
        "All Colab runtimes are reset after some period of time (which is faster if the runtime isn't executing code). Colab Pro and Pro+ users have access to longer runtimes than those who use Colab free of charge.\n",
        "\n",
        "## Background execution\n",
        "\n",
        "Colab Pro+ users have access to background execution, where notebooks will continue executing even after you've closed a browser tab. This is always enabled in Pro+ runtimes as long as you have compute units available.\n",
        "\n"
      ]
    },
    {
      "cell_type": "markdown",
      "metadata": {
        "id": "uLlTRcMM_h0k"
      },
      "source": [
        "## Relaxing resource limits in Colab Pro\n",
        "\n",
        "Your resources are not unlimited in Colab. To make the most of Colab, avoid using resources when you don't need them. For example, only use a GPU when required and close Colab tabs when finished.\n",
        "\n",
        "\n",
        "\n",
        "If you encounter limitations, you can relax those limitations by purchasing more compute units via Pay As You Go. Anyone can purchase compute units via [Pay As You Go](https://colab.research.google.com/signup); no subscription is required."
      ]
    },
    {
      "cell_type": "markdown",
      "metadata": {
        "id": "mm8FzEidvPs6"
      },
      "source": [
        "## Send us feedback!\n",
        "\n",
        "If you have any feedback for us, please let us know. The best way to send feedback is by using the Help > 'Send feedback...' menu. If you encounter usage limits in Colab Pro consider subscribing to Pro+.\n",
        "\n",
        "If you encounter errors or other issues with billing (payments) for Colab Pro, Pro+, or Pay As You Go, please email [colab-billing@google.com](mailto:colab-billing@google.com)."
      ]
    },
    {
      "cell_type": "markdown",
      "metadata": {
        "id": "qB3bdLe8jkAa"
      },
      "source": [
        "## More Resources\n",
        "\n",
        "### Working with Notebooks in Colab\n",
        "- [Overview of Colab](/notebooks/basic_features_overview.ipynb)\n",
        "- [Guide to Markdown](/notebooks/markdown_guide.ipynb)\n",
        "- [Importing libraries and installing dependencies](/notebooks/snippets/importing_libraries.ipynb)\n",
        "- [Saving and loading notebooks in GitHub](https://colab.research.google.com/github/googlecolab/colabtools/blob/main/notebooks/colab-github-demo.ipynb)\n",
        "- [Interactive forms](/notebooks/forms.ipynb)\n",
        "- [Interactive widgets](/notebooks/widgets.ipynb)\n",
        "\n",
        "<a name=\"working-with-data\"></a>\n",
        "### Working with Data\n",
        "- [Loading data: Drive, Sheets, and Google Cloud Storage](/notebooks/io.ipynb)\n",
        "- [Charts: visualizing data](/notebooks/charts.ipynb)\n",
        "- [Getting started with BigQuery](/notebooks/bigquery.ipynb)\n",
        "\n",
        "### Machine Learning Crash Course\n",
        "These are a few of the notebooks from Google's online Machine Learning course. See the [full course website](https://developers.google.com/machine-learning/crash-course/) for more.\n",
        "- [Intro to Pandas DataFrame](https://colab.research.google.com/github/google/eng-edu/blob/main/ml/cc/exercises/pandas_dataframe_ultraquick_tutorial.ipynb)\n",
        "- [Linear regression with tf.keras using synthetic data](https://colab.research.google.com/github/google/eng-edu/blob/main/ml/cc/exercises/linear_regression_with_synthetic_data.ipynb)\n",
        "\n",
        "\n",
        "<a name=\"using-accelerated-hardware\"></a>\n",
        "### Using Accelerated Hardware\n",
        "- [TensorFlow with GPUs](/notebooks/gpu.ipynb)\n",
        "- [TPUs in Colab](/notebooks/tpu.ipynb)"
      ]
    },
    {
      "cell_type": "markdown",
      "metadata": {
        "id": "RFm2S0Gijqo8"
      },
      "source": [
        "<a name=\"machine-learning-examples\"></a>\n",
        "\n",
        "## Machine Learning Examples\n",
        "\n",
        "To see end-to-end examples of the interactive machine learning analyses that Colab makes possible, check out these tutorials using models from [TensorFlow Hub](https://tfhub.dev).\n",
        "\n",
        "A few featured examples:\n",
        "\n",
        "- [Retraining an Image Classifier](https://tensorflow.org/hub/tutorials/tf2_image_retraining): Build a Keras model on top of a pre-trained image classifier to distinguish flowers.\n",
        "- [Text Classification](https://tensorflow.org/hub/tutorials/tf2_text_classification): Classify IMDB movie reviews as either *positive* or *negative*.\n",
        "- [Style Transfer](https://tensorflow.org/hub/tutorials/tf2_arbitrary_image_stylization): Use deep learning to transfer style between images.\n",
        "- [Multilingual Universal Sentence Encoder Q&A](https://tensorflow.org/hub/tutorials/retrieval_with_tf_hub_universal_encoder_qa): Use a machine learning model to answer questions from the SQuAD dataset.\n",
        "- [Video Interpolation](https://tensorflow.org/hub/tutorials/tweening_conv3d): Predict what happened in a video between the first and the last frame.\n"
      ]
    },
    {
      "cell_type": "code",
      "source": [
        "import numpy as np\n",
        "import pandas as pd\n",
        "from sklearn.model_selection import train_test_split\n",
        "import numpy as np\n",
        "from sklearn.metrics import confusion_matrix, ConfusionMatrixDisplay\n",
        "import matplotlib.pyplot as plt\n",
        "\n",
        "\n",
        "# Function to generate synthetic dataset\n",
        "def generate_dataset(num_samples=2000):\n",
        "    # Initialize lists\n",
        "    features = []\n",
        "\n",
        "    # Generate samples\n",
        "    for _ in range(num_samples):\n",
        "        # Randomize input variables based on ranges from the papers\n",
        "        gamma = np.random.uniform(-10, 20)  # $\\bar{\\eta}$\n",
        "        phi_T = np.random.uniform(0, 2 * np.pi)\n",
        "        r_T = np.random.uniform(0, 1)\n",
        "        q_T = np.random.uniform(0, 1)\n",
        "        m_ST = 2.5\n",
        "        m_tD = 2.5\n",
        "        zeta_c = 2.5\n",
        "        N = np.random.choice([15, 20, 30])\n",
        "        delta_ST = 1\n",
        "        delta_tD = 1\n",
        "        A_th = 5\n",
        "\n",
        "        # Calculate Cartesian coordinates\n",
        "        x_T = r_T * np.sin(phi_T)\n",
        "        y_T = r_T * np.cos(phi_T)\n",
        "        z_T = q_T\n",
        "\n",
        "        # Example variables a and b as source/destination coordinates\n",
        "        x_a, y_a, z_a = -0.5, 0, 0\n",
        "        x_b, y_b, z_b = 0.5, 0, 0\n",
        "        distance = np.sqrt((x_a - x_T)**2 + (y_a - y_T)**2 + (z_a - z_T)**2)\n",
        "\n",
        "        # Example feature vector\n",
        "        feature_vector = [gamma, phi_T, r_T, q_T, m_ST, m_tD, zeta_c, N, delta_ST, delta_tD, A_th, distance]\n",
        "        features.append(feature_vector)\n",
        "\n",
        "    columns = ['gamma', 'phi_T', 'r_T', 'q_T', 'm_ST', 'm_tD', 'zeta_c', 'N', 'delta_ST', 'delta_tD', 'A_th', 'distance']\n",
        "    dataset = pd.DataFrame(features, columns=columns)\n",
        "\n",
        "    return dataset\n",
        "\n",
        "# Generate the dataset\n",
        "dataset = generate_dataset()\n",
        "\n",
        "# Split the dataset into train, test, and validation sets\n",
        "train, test = train_test_split(dataset, test_size=0.4, random_state=42)\n",
        "test, val = train_test_split(test, test_size=0.25, random_state=42)  # 0.25 x 0.4 = 0.1\n",
        "\n",
        "# Display dataset sizes\n",
        "print(f\"Training set size: {len(train)}\")\n",
        "print(f\"Validation set size: {len(val)}\")\n",
        "print(f\"Test set size: {len(test)}\")\n",
        "\n",
        "# Example of saving to CSV if needed\n",
        "train.to_csv('train_data.csv', index=False)\n",
        "val.to_csv('val_data.csv', index=False)\n",
        "test.to_csv('test_data.csv', index=False)\n",
        "\n",
        "# Plot confusion matrix\n",
        "# Example true and predicted labels\n",
        "y_true = np.random.randint(0, 2, 100)  # Replace with your actual true labels\n",
        "y_pred = np.random.randint(0, 2, 100)  # Replace with your predicted labels\n",
        "\n",
        "# Compute confusion matrix\n",
        "cm = confusion_matrix(y_true, y_pred)\n",
        "\n",
        "# Create a display for the confusion matrix\n",
        "disp = ConfusionMatrixDisplay(confusion_matrix=cm)\n",
        "\n",
        "# Plot the confusion matrix\n",
        "disp.plot(cmap='Blues')\n",
        "plt.title('Confusion Matrix')\n",
        "plt.xlabel('Predicted Label')\n",
        "plt.ylabel('True Label')\n",
        "plt.show()"
      ],
      "metadata": {
        "colab": {
          "base_uri": "https://localhost:8080/",
          "height": 524
        },
        "id": "YAwk1ryZyo1p",
        "outputId": "62ae1829-1adb-4b23-b5b0-7dbffcf03c46"
      },
      "execution_count": 4,
      "outputs": [
        {
          "output_type": "stream",
          "name": "stdout",
          "text": [
            "Training set size: 1200\n",
            "Validation set size: 200\n",
            "Test set size: 600\n"
          ]
        },
        {
          "output_type": "display_data",
          "data": {
            "text/plain": [
              "<Figure size 640x480 with 2 Axes>"
            ],
            "image/png": "[encoded data removed]"
          },
          "metadata": {}
        }
      ]
    },
    {
      "cell_type": "code",
      "source": [
        "import numpy as np\n",
        "import pandas as pd\n",
        "import tensorflow as tf\n",
        "from sklearn.model_selection import train_test_split\n",
        "import matplotlib.pyplot as plt\n",
        "\n",
        "# Generate synthetic dataset\n",
        "def generate_dataset(num_samples=2000):\n",
        "    features = []\n",
        "    for _ in range(num_samples):\n",
        "        gamma = np.random.uniform(-10, 20)\n",
        "        phi_T = np.random.uniform(0, 2 * np.pi)\n",
        "        r_T = np.random.uniform(0, 1)\n",
        "        q_T = np.random.uniform(0, 1)\n",
        "        m_ST = 2.5\n",
        "        m_tD = 2.5\n",
        "        zeta_c = 2.5\n",
        "        N = np.random.choice([15, 20, 30])\n",
        "        delta_ST = 1\n",
        "        delta_tD = 1\n",
        "        A_th = 5\n",
        "\n",
        "        x_T = r_T * np.sin(phi_T)\n",
        "        y_T = r_T * np.cos(phi_T)\n",
        "        z_T = q_T\n",
        "        x_a, y_a, z_a = -0.5, 0, 0\n",
        "        x_b, y_b, z_b = 0.5, 0, 0\n",
        "        distance = np.sqrt((x_a - x_T)**2 + (y_a - y_T)**2 + (z_a - z_T)**2)\n",
        "\n",
        "        feature_vector = [gamma, phi_T, r_T, q_T, m_ST, m_tD, zeta_c, N, delta_ST, delta_tD, A_th, distance]\n",
        "        features.append(feature_vector)\n",
        "\n",
        "    columns = ['gamma', 'phi_T', 'r_T', 'q_T', 'm_ST', 'm_tD', 'zeta_c', 'N', 'delta_ST', 'delta_tD', 'A_th', 'distance']\n",
        "    dataset = pd.DataFrame(features, columns=columns)\n",
        "\n",
        "    return dataset\n",
        "\n",
        "# Generate the dataset\n",
        "dataset = generate_dataset()\n",
        "\n",
        "# Split the dataset into train, test, and validation sets\n",
        "train, test = train_test_split(dataset, test_size=0.4, random_state=42)\n",
        "test, val = train_test_split(test, test_size=0.25, random_state=42)\n",
        "\n",
        "# Define DNN model\n",
        "#def create_dnn_model(input_shape):"
      ],
      "metadata": {
        "id": "2Anzh4MtzIao"
      },
      "execution_count": 3,
      "outputs": []
    }
  ],
  "metadata": {
    "colab": {
      "name": "Making the Most of your Colab Subscription",
      "provenance": [],
      "include_colab_link": true
    },
    "kernelspec": {
      "display_name": "Python 3",
      "name": "python3"
    }
  },
  "nbformat": 4,
  "nbformat_minor": 0
}